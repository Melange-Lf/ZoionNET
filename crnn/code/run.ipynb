{
 "cells": [
  {
   "cell_type": "code",
   "execution_count": 1,
   "metadata": {},
   "outputs": [
    {
     "name": "stderr",
     "output_type": "stream",
     "text": [
      "d:\\code\\Py\\Ai\\IEEE comsoc\\.venv\\Lib\\site-packages\\tqdm\\auto.py:21: TqdmWarning: IProgress not found. Please update jupyter and ipywidgets. See https://ipywidgets.readthedocs.io/en/stable/user_install.html\n",
      "  from .autonotebook import tqdm as notebook_tqdm\n"
     ]
    },
    {
     "data": {
      "text/plain": [
       "'cuda'"
      ]
     },
     "execution_count": 1,
     "metadata": {},
     "output_type": "execute_result"
    }
   ],
   "source": [
    "import numpy as np\n",
    "# import joblib\n",
    "# from sklearn.model_selection import train_test_split\n",
    "\n",
    "import torch\n",
    "from torch import nn\n",
    "from torch.utils.data import DataLoader, TensorDataset\n",
    "\n",
    "# import torchmetrics\n",
    "import models\n",
    "from utils import SoftLabelFbankCustom\n",
    "import utils\n",
    "from engine import train\n",
    "from torchinfo import summary\n",
    "\n",
    "device = 'cuda' if torch.cuda.is_available() else 'cpu'\n",
    "device"
   ]
  },
  {
   "cell_type": "code",
   "execution_count": 2,
   "metadata": {},
   "outputs": [],
   "source": [
    "\n",
    "\n",
    "eval_csv_path = \"./data_csv/fold1_eval_soft_labels.csv\"\n",
    "train_csv_path = \"./data_csv/fold1_train_soft_labels.csv\"\n",
    "csv_path = \"./data/esc_class_labels_indices.csv\"\n",
    "\n",
    "\n",
    "# nerfing the batch size too\n",
    "eval_loader = DataLoader(SoftLabelFbankCustom(eval_csv_path, 50),\n",
    "                          batch_size=32, shuffle=True, num_workers=0, pin_memory=True)\n",
    "train_loader = DataLoader(SoftLabelFbankCustom(train_csv_path, 50),\n",
    "                           batch_size=32, shuffle=False, num_workers=0, pin_memory=True)\n",
    "\n",
    "\n",
    "# os.makedirs(config_dict['exp_dir'], exist_ok=True)"
   ]
  },
  {
   "cell_type": "code",
   "execution_count": 3,
   "metadata": {},
   "outputs": [
    {
     "data": {
      "text/plain": [
       "=================================================================\n",
       "Layer (type:depth-idx)                   Param #\n",
       "=================================================================\n",
       "CRNN4                                    --\n",
       "├─ModuleList: 1-1                        --\n",
       "│    └─Conv2d: 2-1                       832\n",
       "│    └─ReLU: 2-2                         --\n",
       "│    └─MaxPool2d: 2-3                    --\n",
       "│    └─BatchNorm2d: 2-4                  64\n",
       "│    └─Dropout: 2-5                      --\n",
       "│    └─Conv2d: 2-6                       18,496\n",
       "│    └─ReLU: 2-7                         --\n",
       "│    └─MaxPool2d: 2-8                    --\n",
       "│    └─BatchNorm2d: 2-9                  128\n",
       "│    └─Dropout: 2-10                     --\n",
       "├─ModuleList: 1-2                        --\n",
       "│    └─GRU: 2-11                         405,888\n",
       "│    └─LayerNorm: 2-12                   128\n",
       "│    └─Dropout: 2-13                     --\n",
       "│    └─GRU: 2-14                         74,496\n",
       "│    └─LayerNorm: 2-15                   256\n",
       "│    └─Dropout: 2-16                     --\n",
       "├─Sequential: 1-3                        --\n",
       "│    └─Linear: 2-17                      66,048\n",
       "│    └─ReLU: 2-18                        --\n",
       "│    └─BatchNorm1d: 2-19                 1,024\n",
       "│    └─Dropout: 2-20                     --\n",
       "├─Linear: 1-4                            25,650\n",
       "=================================================================\n",
       "Total params: 593,010\n",
       "Trainable params: 593,010\n",
       "Non-trainable params: 0\n",
       "================================================================="
      ]
     },
     "execution_count": 3,
     "metadata": {},
     "output_type": "execute_result"
    }
   ],
   "source": [
    "model = models.CRNN4(input_shape=(128, 512, 1), output_shape=50,\n",
    "                 cnn_layers=2,kernels=(5, 3, 3), filters=(32, 64, 64), pool_sizes=(2, 2, 2),\n",
    "                 cnn_dropout=(0.3, 0.4, 0.4),\n",
    "                 rnn_layers=2, rnn_hidden=(64, 128),\n",
    "                 rnn_dropout=(0.4, 0.2),\n",
    "\n",
    "                fnn_layers=1, fnn_hidden=(512,), fnn_dropout=(0.4,),)\n",
    "# damn that's a hard nerf\n",
    "\n",
    "\n",
    "optimizer = torch.optim.AdamW(model.parameters(), lr=1e-3, weight_decay=1e-2)\n",
    "scheduler = torch.optim.lr_scheduler.StepLR(optimizer, step_size=3, gamma=0.75)\n",
    "loss_fn = nn.CrossEntropyLoss()\n",
    "accuracy_multi_class = lambda pred, tar: (torch.argmax(pred, dim=1) == torch.argmax(tar, dim=1)).float().mean()\n",
    "torch.manual_seed(42)\n",
    "torch.cuda.manual_seed(42)\n",
    "np.random.seed(42)\n",
    "model = model.to(device)\n",
    "\n",
    "summary(model)"
   ]
  },
  {
   "cell_type": "code",
   "execution_count": 4,
   "metadata": {},
   "outputs": [],
   "source": [
    "# check = torch.load(\"./checkpoints/2best_model_crnn4_18ep_highReg.pth\")\n",
    "\n",
    "\n",
    "# model.load_state_dict(check['model_state_dict'])\n",
    "# optimizer.load_state_dict(check['optim_state_dict'])\n",
    "\n"
   ]
  },
  {
   "cell_type": "code",
   "execution_count": 26,
   "metadata": {},
   "outputs": [],
   "source": [
    "# optimizer.param_groups[0]['lr'] = optimizer.param_groups[0]['lr'] * 0.1\n",
    "# optimizer.param_groups[0]['weight_decay'] = optimizer.param_groups[0]['weight_decay'] * 100"
   ]
  },
  {
   "cell_type": "code",
   "execution_count": 14,
   "metadata": {},
   "outputs": [],
   "source": []
  },
  {
   "cell_type": "code",
   "execution_count": 8,
   "metadata": {},
   "outputs": [
    {
     "name": "stderr",
     "output_type": "stream",
     "text": [
      "  0%|          | 0/3 [00:00<?, ?it/s]"
     ]
    },
    {
     "name": "stdout",
     "output_type": "stream",
     "text": [
      "starting training batches:\n",
      "0 / 50\n",
      "16 / 50\n",
      "32 / 50\n",
      "48 / 50\n",
      "Epoch: 1 | train_loss: 0.8930 | train_metric: 0.7525 | test_loss: 2.4857 | test_metric: 0.3678\n"
     ]
    },
    {
     "name": "stderr",
     "output_type": "stream",
     "text": [
      " 33%|███▎      | 1/3 [00:16<00:33, 16.90s/it]"
     ]
    },
    {
     "name": "stdout",
     "output_type": "stream",
     "text": [
      "starting training batches:\n",
      "0 / 50\n",
      "16 / 50\n",
      "32 / 50\n",
      "48 / 50\n",
      "Epoch: 2 | train_loss: 0.8690 | train_metric: 0.7550 | test_loss: 2.4667 | test_metric: 0.4207\n"
     ]
    },
    {
     "name": "stderr",
     "output_type": "stream",
     "text": [
      " 67%|██████▋   | 2/3 [00:37<00:19, 19.18s/it]"
     ]
    },
    {
     "name": "stdout",
     "output_type": "stream",
     "text": [
      "starting training batches:\n",
      "0 / 50\n",
      "16 / 50\n",
      "32 / 50\n",
      "48 / 50\n"
     ]
    },
    {
     "name": "stderr",
     "output_type": "stream",
     "text": [
      "100%|██████████| 3/3 [00:57<00:00, 19.11s/it]"
     ]
    },
    {
     "name": "stdout",
     "output_type": "stream",
     "text": [
      "Epoch: 3 | train_loss: 0.8096 | train_metric: 0.7769 | test_loss: 2.4164 | test_metric: 0.4351\n"
     ]
    },
    {
     "name": "stderr",
     "output_type": "stream",
     "text": [
      "\n"
     ]
    },
    {
     "data": {
      "text/plain": [
       "{'train_loss': [4.126364107131958,\n",
       "  3.9241414976119997,\n",
       "  3.8631375217437744,\n",
       "  3.790391216278076,\n",
       "  3.7428553342819213,\n",
       "  3.695086636543274,\n",
       "  3.646302523612976,\n",
       "  3.6389204597473146,\n",
       "  3.5280529165267946,\n",
       "  3.470722074508667,\n",
       "  3.4276807928085327,\n",
       "  3.319245705604553,\n",
       "  3.238357214927673,\n",
       "  3.1557249879837035,\n",
       "  3.0188574504852297,\n",
       "  2.7893743467330934,\n",
       "  2.650936326980591,\n",
       "  2.529330008029938,\n",
       "  2.387311723232269,\n",
       "  2.2624942374229433,\n",
       "  2.157312316894531,\n",
       "  2.085415630340576,\n",
       "  1.9564237904548645,\n",
       "  1.8550985717773438,\n",
       "  1.8122423791885376,\n",
       "  1.74238440990448,\n",
       "  1.5940260899066925,\n",
       "  1.5064444375038146,\n",
       "  1.4063128328323364,\n",
       "  1.3174234592914582,\n",
       "  1.231454049348831,\n",
       "  1.1157502245903015,\n",
       "  1.0788812363147735,\n",
       "  1.0248507285118102,\n",
       "  0.9574160492420196,\n",
       "  0.8929908657073975,\n",
       "  0.8689860618114471,\n",
       "  0.8096010333299637],\n",
       " 'train_metric': [0.023749999701976776,\n",
       "  0.036249998956918716,\n",
       "  0.0456249974668026,\n",
       "  0.04437499865889549,\n",
       "  0.05249999836087227,\n",
       "  0.06187499687075615,\n",
       "  0.05999999865889549,\n",
       "  0.05624999850988388,\n",
       "  0.07312499731779099,\n",
       "  0.08749999850988388,\n",
       "  0.0949999988079071,\n",
       "  0.11625000089406967,\n",
       "  0.12687499821186066,\n",
       "  0.13625000417232513,\n",
       "  0.17125000059604645,\n",
       "  0.2175000011920929,\n",
       "  0.2306249886751175,\n",
       "  0.2712499797344208,\n",
       "  0.3075000047683716,\n",
       "  0.31687498092651367,\n",
       "  0.3606249988079071,\n",
       "  0.36937499046325684,\n",
       "  0.4156249761581421,\n",
       "  0.4468749761581421,\n",
       "  0.45124998688697815,\n",
       "  0.48374998569488525,\n",
       "  0.5106250047683716,\n",
       "  0.5512499809265137,\n",
       "  0.5737499594688416,\n",
       "  0.6187499761581421,\n",
       "  0.6337499618530273,\n",
       "  0.6881250143051147,\n",
       "  0.6937499642372131,\n",
       "  0.7093749642372131,\n",
       "  0.7268750071525574,\n",
       "  tensor(0.7525, device='cuda:0'),\n",
       "  tensor(0.7550, device='cuda:0'),\n",
       "  tensor(0.7769, device='cuda:0')],\n",
       " 'test_loss': [3.8077079882988563,\n",
       "  3.694168897775503,\n",
       "  3.650550292088435,\n",
       "  3.594035497078529,\n",
       "  3.563450208077064,\n",
       "  3.5383819249960093,\n",
       "  3.4984734058380127,\n",
       "  3.4548599536602316,\n",
       "  3.3907526089594913,\n",
       "  3.2883954231555643,\n",
       "  3.216421549136822,\n",
       "  3.191874155631432,\n",
       "  3.246141195297241,\n",
       "  3.0598722788003774,\n",
       "  2.8745476649357724,\n",
       "  2.7746033118321347,\n",
       "  2.675859781411978,\n",
       "  2.5639015711270847,\n",
       "  2.5721574013049784,\n",
       "  2.5295543670654297,\n",
       "  2.4625993141761193,\n",
       "  2.4442140872661886,\n",
       "  2.4628911201770487,\n",
       "  2.4718415920551005,\n",
       "  2.4925170494959903,\n",
       "  2.3206622142058153,\n",
       "  2.3474106330137987,\n",
       "  2.4974415669074426,\n",
       "  2.3001373272675734,\n",
       "  2.3687037504636326,\n",
       "  2.3952680917886586,\n",
       "  2.340909866186289,\n",
       "  2.3619762659072876,\n",
       "  2.3635068398255568,\n",
       "  2.390461068886977,\n",
       "  2.4856679989741397,\n",
       "  2.4666607196514425,\n",
       "  2.416363211778494],\n",
       " 'test_metric': [0.016826923936605453,\n",
       "  0.02884615585207939,\n",
       "  0.03125,\n",
       "  0.06730769574642181,\n",
       "  0.0625,\n",
       "  0.06490384787321091,\n",
       "  0.08413461595773697,\n",
       "  0.10817307978868484,\n",
       "  0.10096154361963272,\n",
       "  0.11298077553510666,\n",
       "  0.15144231915473938,\n",
       "  0.16346155107021332,\n",
       "  0.12259615957736969,\n",
       "  0.17548078298568726,\n",
       "  0.21394231915473938,\n",
       "  0.2475961595773697,\n",
       "  0.23317308723926544,\n",
       "  0.3076923191547394,\n",
       "  0.29326924681663513,\n",
       "  0.29326924681663513,\n",
       "  0.3149038553237915,\n",
       "  0.36538463830947876,\n",
       "  0.33413463830947876,\n",
       "  0.36057692766189575,\n",
       "  0.32211539149284363,\n",
       "  0.4038461744785309,\n",
       "  0.36057692766189575,\n",
       "  0.3725961744785309,\n",
       "  0.3822115659713745,\n",
       "  0.4062500298023224,\n",
       "  0.3701923191547394,\n",
       "  0.4062500298023224,\n",
       "  0.39423078298568726,\n",
       "  0.4326923191547394,\n",
       "  0.42067310214042664,\n",
       "  tensor(0.3678, device='cuda:0'),\n",
       "  tensor(0.4207, device='cuda:0'),\n",
       "  tensor(0.4351, device='cuda:0')]}"
      ]
     },
     "execution_count": 8,
     "metadata": {},
     "output_type": "execute_result"
    }
   ],
   "source": [
    "\n",
    "\n",
    "train(model, train_loader, eval_loader, optimizer=optimizer, loss_fn=loss_fn, metric_fn=accuracy_multi_class, epochs=3, device=device, check_dir='./checkpoints', checkpoint_dict=check)"
   ]
  },
  {
   "cell_type": "code",
   "execution_count": null,
   "metadata": {},
   "outputs": [],
   "source": []
  },
  {
   "cell_type": "code",
   "execution_count": null,
   "metadata": {},
   "outputs": [],
   "source": []
  },
  {
   "cell_type": "code",
   "execution_count": null,
   "metadata": {},
   "outputs": [],
   "source": []
  },
  {
   "cell_type": "code",
   "execution_count": null,
   "metadata": {},
   "outputs": [],
   "source": []
  },
  {
   "cell_type": "code",
   "execution_count": null,
   "metadata": {},
   "outputs": [],
   "source": []
  },
  {
   "cell_type": "code",
   "execution_count": null,
   "metadata": {},
   "outputs": [],
   "source": []
  }
 ],
 "metadata": {
  "kernelspec": {
   "display_name": ".venv",
   "language": "python",
   "name": "python3"
  },
  "language_info": {
   "codemirror_mode": {
    "name": "ipython",
    "version": 3
   },
   "file_extension": ".py",
   "mimetype": "text/x-python",
   "name": "python",
   "nbconvert_exporter": "python",
   "pygments_lexer": "ipython3",
   "version": "3.11.9"
  }
 },
 "nbformat": 4,
 "nbformat_minor": 2
}
